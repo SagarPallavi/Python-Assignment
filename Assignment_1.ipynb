{
  "nbformat": 4,
  "nbformat_minor": 0,
  "metadata": {
    "colab": {
      "name": "Assignment-1.ipynb",
      "provenance": []
    },
    "kernelspec": {
      "name": "python3",
      "display_name": "Python 3"
    },
    "language_info": {
      "name": "python"
    }
  },
  "cells": [
    {
      "cell_type": "code",
      "execution_count": null,
      "metadata": {
        "id": "bvSOEkczcp7s"
      },
      "outputs": [],
      "source": [
        ""
      ]
    },
    {
      "cell_type": "markdown",
      "source": [
        "1. In the below elements which of them are values or an expression? eg:- values can be integer or string and expressions will be mathematical operators.\n",
        "* \n",
        "'hello'\n",
        "-87.8\n",
        "- \n",
        "/ \n",
        "+\t\n",
        "6 \n",
        "Values:  String:- ‘hello’ ,  Int:- 6  ,  Float: -87.8\n",
        "Expressions:- * - / +\n",
        "2. What is the difference between string and variable?\n",
        "String is type of variable.\n",
        "Variable is used to store value.\n",
        "3. Describe three different data types.\n",
        "String \n",
        "Integer\n",
        "Float\n",
        "4. What is an expression made up of? What do all expressions do?\n",
        "Expressions are made up of different operators, variables, value etc. and always evaluated for single value\n",
        "5. This assignment statements, like spam = 10. What is the difference between an expression and a statement?\n",
        "Statement may or may not give any output/result value. Expression always results a value \n",
        "6. After running the following code, what does the variable bacon contain?\n",
        "bacon = 22\n",
        "bacon + 1\n",
        "23\n",
        "7. What should the values of the following two terms be?\n",
        "'spam' + 'spamspam'\n",
        "'spam' * 3\n",
        "spamspamspam\n",
        "8. Why is eggs a valid variable name while 100 is invalid?\n",
        "Variable name can’t start with number\n",
        "9. What three functions can be used to get the integer, floating-point number, or string version of a value?\n",
        "type function\n",
        "10. Why does this expression cause an error? How can you fix it?\n",
        "'I have eaten ' + 99 + ' burritos.'\n",
        "'I have eaten ' + ‘99’ + ' burritos.'\n",
        "\n"
      ],
      "metadata": {
        "id": "s5wYk1mGctaV"
      }
    }
  ]
}