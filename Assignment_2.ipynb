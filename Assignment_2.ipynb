{
  "nbformat": 4,
  "nbformat_minor": 0,
  "metadata": {
    "colab": {
      "name": "Assignment-2.ipynb",
      "provenance": [],
      "collapsed_sections": []
    },
    "kernelspec": {
      "name": "python3",
      "display_name": "Python 3"
    },
    "language_info": {
      "name": "python"
    }
  },
  "cells": [
    {
      "cell_type": "code",
      "execution_count": null,
      "metadata": {
        "id": "9AfbVtTidYyp"
      },
      "outputs": [],
      "source": [
        ""
      ]
    },
    {
      "cell_type": "markdown",
      "source": [
        "1.What are the two values of the Boolean data type? How do you write them?\n",
        "True and false\n",
        "1, 0\n",
        "2. What are the three different types of Boolean operators?\n",
        "AND, OR, NOT\n",
        "\t\n",
        "3. Make a list of each Boolean operator's truth tables (i.e. every possible combination of Boolean values for the operator and what it evaluate ).\n",
        "AND\t\tOR\t\tNOT\n",
        "0\t0\t0\t\t0\t0\t0\t\t0\t1\t\n",
        "1\t0\t0\t\t0\t1\t1\t\t1\t0\t\n",
        "0\t1\t0\t\t1\t0\t1\t\t\t\t\n",
        "1\t1\t1\t\t1\t1\t1\t\t\t\n",
        "\n",
        "\n",
        "4. What are the values of the following expressions?\n",
        "(5 > 4) and (3 == 5) 0\n",
        "not (5 > 4) 0\n",
        "(5 > 4) or (3 == 5) 1\n",
        "not ((5 > 4) or (3 == 5)) 0\n",
        "(True and True) and (True == False) FALSE\n",
        "(not False) or (not True) TRUE\n",
        "5. What are the six comparison operators?\n",
        "greater than, less than, less than or equal to, greater than or equal to, equal to, and not equal to.\n",
        "6. How do you tell the difference between the equal to and assignment operators? Describe a condition and when you would use one.\n",
        "Equal to  (==) operator is used for comparison\n",
        "a=3\n",
        "b=5\n",
        "if a==b:\n",
        "  print (\"correct\")\n",
        "else:\n",
        "  print(\"incorrect\")\n",
        "Assignment (=) operator is used to assign value to variable\n",
        "a=34\n",
        "b=”python”\n",
        "7. Identify the three blocks in this code:\n",
        "print('bacon') and print('ham')\n",
        "print('eggs')\n",
        "if spam > 5:\n",
        "print('bacon')\n",
        "else:\n",
        "print('ham')\n",
        "print('spam')\n",
        "8. Write code that prints Hello if 1 is stored in spam, prints Howdy if 2 is stored in spam, and prints Greetings! if anything else is stored in spam.\n",
        "spam=1\n",
        "\n",
        "if spam==1:\n",
        "  print(\"hello\")\n",
        "elif spam==2:\n",
        "  print(\"howdy\")\n",
        "else:\n",
        "  print(\"greetings\")\n",
        "9. If your programme is stuck in an endless loop, what keys you’ll press?\n",
        "Ctrl+C\n",
        "10. How can you tell the difference between break and continue?\n",
        "'Break 'stop the continuation of the loop.\n",
        "'Continue' does not stop the continuation of loop and it stops the current.\n",
        "11. In a for loop, what is the difference between range(10), range(0, 10), and range(0, 10, 1)?\n",
        "range(10): it will stop at 10.\n",
        "range(0, 10): it will start from 0 and stop at 10.\n",
        "range(0, 10, 1): it will start from 0, stop at 10 with step of 1.\n",
        "12. Write a short program that prints the numbers 1 to 10 using a for loop. Then write an equivalent program that prints the numbers 1 to 10 using a while loop.\n",
        "a=1\n",
        "b=10\n",
        "for s in range (a,b):\n",
        "  print(s)\n",
        "i=1\n",
        "while i<10:\n",
        "  print(i)\n",
        "  i=i+1\n",
        "\n",
        "13. If you had a function named bacon() inside a module named spam, how would you call it after importing spam?\n",
        "spam.bacon()\n",
        "\n"
      ],
      "metadata": {
        "id": "j5JZaNjqdc_a"
      }
    }
  ]
}