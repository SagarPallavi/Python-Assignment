{
  "nbformat": 4,
  "nbformat_minor": 0,
  "metadata": {
    "colab": {
      "name": "Programming_Assignment_6.ipynb",
      "provenance": []
    },
    "kernelspec": {
      "name": "python3",
      "display_name": "Python 3"
    },
    "language_info": {
      "name": "python"
    }
  },
  "cells": [
    {
      "cell_type": "code",
      "execution_count": 2,
      "metadata": {
        "colab": {
          "base_uri": "https://localhost:8080/"
        },
        "id": "Z3PxdBnH9hU7",
        "outputId": "4f0ae07d-182d-47f2-c31f-368f397f213b"
      },
      "outputs": [
        {
          "output_type": "stream",
          "name": "stdout",
          "text": [
            "Fibonacci sequence:\n",
            "0\n",
            "1\n",
            "1\n",
            "2\n",
            "3\n",
            "5\n",
            "8\n",
            "13\n",
            "21\n",
            "34\n"
          ]
        }
      ],
      "source": [
        "#1.\tWrite a Python Program to Display Fibonacci Sequence Using Recursion?\n",
        "\n",
        "def recur_fibo(n):\n",
        "   if n <= 1:\n",
        "       return n\n",
        "   else:\n",
        "       return(recur_fibo(n-1) + recur_fibo(n-2))\n",
        "\n",
        "nterms = 10\n",
        "\n",
        "# check if the number of terms is valid\n",
        "if nterms <= 0:\n",
        "   print(\"Plese enter a positive integer\")\n",
        "else:\n",
        "   print(\"Fibonacci sequence:\")\n",
        "   for i in range(nterms):\n",
        "       print(recur_fibo(i))\n"
      ]
    },
    {
      "cell_type": "code",
      "source": [
        "#2.\tWrite a Python Program to Find Factorial of Number Using Recursion?\n",
        "\n",
        "def recur_factorial(n):\n",
        "   if n == 1:\n",
        "       return n\n",
        "   else:\n",
        "       return n*recur_factorial(n-1)\n",
        "\n",
        "num = 4\n",
        "\n",
        "# check if the number is negative\n",
        "if num < 0:\n",
        "   print(\"Sorry, factorial does not exist for negative numbers\")\n",
        "elif num == 0:\n",
        "   print(\"The factorial of 0 is 1\")\n",
        "else:\n",
        "   print(\"The factorial of\", num, \"is\", recur_factorial(num))\n"
      ],
      "metadata": {
        "colab": {
          "base_uri": "https://localhost:8080/"
        },
        "id": "MgUY8UWK9wlY",
        "outputId": "2bfac538-513b-4c55-97ac-be8c8db9bac3"
      },
      "execution_count": 5,
      "outputs": [
        {
          "output_type": "stream",
          "name": "stdout",
          "text": [
            "The factorial of 4 is 24\n"
          ]
        }
      ]
    },
    {
      "cell_type": "code",
      "source": [
        "#3.\tWrite a Python Program to calculate your Body Mass Index?\n",
        "\n",
        "Weight=float(input(\"Enter the Weight of person in KG : \"))\n",
        "Height=float(input(\"Enter the Height of person in meter : \"))\n",
        "bmi=Weight/(Height*Height)\n",
        "print(\"BMI of person is : \",bmi)\n",
        "\n"
      ],
      "metadata": {
        "colab": {
          "base_uri": "https://localhost:8080/"
        },
        "id": "al9vkC339xzt",
        "outputId": "135fa4f2-c061-47ab-c014-d56745b499d3"
      },
      "execution_count": 6,
      "outputs": [
        {
          "output_type": "stream",
          "name": "stdout",
          "text": [
            "Enter the Weight of person in KG : 68\n",
            "Enter the Height of person in meter : 5.3\n",
            "BMI of person is :  2.420790316838733\n"
          ]
        }
      ]
    },
    {
      "cell_type": "code",
      "source": [
        "#4.\tWrite a Python Program to calculate the natural logarithm of any number?\n",
        "\n",
        "import math\n",
        "\n",
        "number = int(input(\"Enter the number: \"))\n",
        "\n",
        "ans = math.log(number)\n",
        "\n",
        "print(\"The value is:\",ans)\n"
      ],
      "metadata": {
        "colab": {
          "base_uri": "https://localhost:8080/"
        },
        "id": "r1eigJ_W9_Du",
        "outputId": "0388f452-5645-46a5-f72d-79e0c2531f33"
      },
      "execution_count": 7,
      "outputs": [
        {
          "output_type": "stream",
          "name": "stdout",
          "text": [
            "Enter the number: 5\n",
            "The value is: 1.6094379124341003\n"
          ]
        }
      ]
    },
    {
      "cell_type": "code",
      "source": [
        "#5.\tWrite a Python Program for cube sum of first n natural numbers?\n",
        "def sumofSeries(n):\n",
        "    sum = 0\n",
        "    for i in range(1, n+1):\n",
        "        sum +=i*i*i\n",
        "          \n",
        "    return sum\n",
        "  \n",
        "   \n",
        "# Driver Function\n",
        "n = 4\n",
        "print(sumofSeries(n))"
      ],
      "metadata": {
        "colab": {
          "base_uri": "https://localhost:8080/"
        },
        "id": "TF3nkRoJ-AW9",
        "outputId": "ba23ba63-56a5-447e-8574-44254b4c70f7"
      },
      "execution_count": 10,
      "outputs": [
        {
          "output_type": "stream",
          "name": "stdout",
          "text": [
            "100\n"
          ]
        }
      ]
    },
    {
      "cell_type": "code",
      "source": [
        ""
      ],
      "metadata": {
        "id": "gsZXmWY4AK2F"
      },
      "execution_count": null,
      "outputs": []
    }
  ]
}