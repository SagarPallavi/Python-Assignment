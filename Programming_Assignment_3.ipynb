{
  "nbformat": 4,
  "nbformat_minor": 0,
  "metadata": {
    "colab": {
      "name": "Programming_Assignment_3.ipynb",
      "provenance": []
    },
    "kernelspec": {
      "name": "python3",
      "display_name": "Python 3"
    },
    "language_info": {
      "name": "python"
    }
  },
  "cells": [
    {
      "cell_type": "code",
      "execution_count": 13,
      "metadata": {
        "colab": {
          "base_uri": "https://localhost:8080/"
        },
        "id": "KbR2Scn7BRHh",
        "outputId": "d8110876-7982-4ae4-c066-3c25270b9af2"
      },
      "outputs": [
        {
          "output_type": "stream",
          "name": "stdout",
          "text": [
            "Enter any integer:  1\n",
            "positive\n"
          ]
        }
      ],
      "source": [
        "#Write a Python Program to Check if a Number is Positive, Negative or Zero?\n",
        "\n",
        "x = int(input(\"Enter any integer:  \"))\n",
        "if x==0:\n",
        "  print(\"Zero\")\n",
        "elif x >= 1:\n",
        "  print(\"positive\")\n",
        "else :\n",
        "  print(\"negative\")"
      ]
    },
    {
      "cell_type": "code",
      "source": [
        "#Write a Python Program to Check if a Number is Odd or Even?\n",
        "x = int(input(\"Enter any integer:  \"))\n",
        "if x % 2 == 0:\n",
        "  print(\"Even Number\")\n",
        "else :\n",
        "  print(\"Odd Number\")"
      ],
      "metadata": {
        "colab": {
          "base_uri": "https://localhost:8080/"
        },
        "id": "FmXvQDeRCekA",
        "outputId": "3567e51b-8d27-450c-f682-66cb659c58b2"
      },
      "execution_count": 15,
      "outputs": [
        {
          "output_type": "stream",
          "name": "stdout",
          "text": [
            "Enter any integer:  25\n",
            "Odd Number\n"
          ]
        }
      ]
    },
    {
      "cell_type": "code",
      "source": [
        "#Write a Python Program to Check Leap Year?\n",
        "x = int(input(\"Enter year in YYYY:  \"))\n",
        "if x % 4 == 0:\n",
        "  print(\"This is a leap year\")\n",
        "else :\n",
        "  print(\"This is not leap year\")\n"
      ],
      "metadata": {
        "colab": {
          "base_uri": "https://localhost:8080/"
        },
        "id": "7QkM86-bIcIL",
        "outputId": "c65d2c31-6bd9-4698-9f16-c954d42e9b74"
      },
      "execution_count": 74,
      "outputs": [
        {
          "output_type": "stream",
          "name": "stdout",
          "text": [
            "Enter year in YYYY:  1996\n",
            "This is a leap year\n"
          ]
        }
      ]
    },
    {
      "cell_type": "code",
      "source": [
        "#Write a Python Program to Check Prime Number?\n",
        "x = int(input(\"Enter any number greater than 1:  \"))\n",
        "if x > 1:\n",
        "  \n",
        "    for i in range(2, int(x/2)+1):\n",
        "             \n",
        "        if (x % i) == 0:\n",
        "            print(x, \"is not a prime number\")\n",
        "            break\n",
        "    else:\n",
        "        print(x, \"is a prime number\")\n",
        "  \n",
        "else:\n",
        "    print(x, \"is not a prime number\")"
      ],
      "metadata": {
        "id": "IFFnearEL4sm"
      },
      "execution_count": null,
      "outputs": []
    },
    {
      "cell_type": "code",
      "source": [
        "#Write a Python Program to Print all Prime Numbers in an Interval of 1-10000?\n",
        "\n",
        "lower = 2\n",
        "upper = 10\n",
        "\n",
        "print(\"Prime numbers between\", lower, \"and\", upper, \"are:\")\n",
        "\n",
        "for x in range(lower, upper + 1):\n",
        "   \n",
        "   if x > 1:\n",
        "       for i in range(2, x):\n",
        "           if (x % i) == 0:\n",
        "               break\n",
        "       else:\n",
        "           print(x)"
      ],
      "metadata": {
        "id": "hLqGyLy6O5fi"
      },
      "execution_count": null,
      "outputs": []
    }
  ]
}