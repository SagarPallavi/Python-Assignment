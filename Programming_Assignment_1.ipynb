{
  "nbformat": 4,
  "nbformat_minor": 0,
  "metadata": {
    "colab": {
      "name": "Programming Assignment -1.ipynb",
      "provenance": []
    },
    "kernelspec": {
      "name": "python3",
      "display_name": "Python 3"
    },
    "language_info": {
      "name": "python"
    }
  },
  "cells": [
    {
      "cell_type": "code",
      "execution_count": 26,
      "metadata": {
        "colab": {
          "base_uri": "https://localhost:8080/"
        },
        "id": "40wQbXB2g7Om",
        "outputId": "3f9b388b-9015-4388-bd6e-572ddb674213"
      },
      "outputs": [
        {
          "output_type": "stream",
          "name": "stdout",
          "text": [
            "hello python\n"
          ]
        }
      ],
      "source": [
        "print(\"hello python\")\n"
      ]
    },
    {
      "cell_type": "code",
      "source": [
        "a=input(\"input first number: \")\n",
        "b=input(\"input second number: \")\n",
        "\n",
        "print(float(a)+ float(b))\n",
        "print(float(a)/float(b))"
      ],
      "metadata": {
        "colab": {
          "base_uri": "https://localhost:8080/"
        },
        "id": "kGg_FG46hDlG",
        "outputId": "e1f20563-07db-4570-c442-d5f39d75e7a4"
      },
      "execution_count": 25,
      "outputs": [
        {
          "output_type": "stream",
          "name": "stdout",
          "text": [
            "input first number: 25\n",
            "input second number: 5\n",
            "30.0\n",
            "5.0\n"
          ]
        }
      ]
    },
    {
      "cell_type": "code",
      "source": [
        "#Sides of Triangle AB, BC and AC:  \n",
        "AB = float(input('Enter first side: '))  \n",
        "BC = float(input('Enter second side: '))  \n",
        "AC = float(input('Enter third side: '))  \n",
        "  \n",
        "# calculate the semi-perimeter  \n",
        "s = (AB  + BC + AC) / 2  \n",
        "  \n",
        "# calculate the area  \n",
        "area = (s*(s-AB)*(s-BC)*(s-AC)) ** 0.5  \n",
        "\n",
        "print('The area of the triangle is %0.2f' %area)   "
      ],
      "metadata": {
        "colab": {
          "base_uri": "https://localhost:8080/"
        },
        "id": "KzxGtP4mhXTJ",
        "outputId": "d639d391-0a36-457b-e83f-41c04faf4b03"
      },
      "execution_count": 5,
      "outputs": [
        {
          "output_type": "stream",
          "name": "stdout",
          "text": [
            "Enter first side: 5\n",
            "Enter second side: 5\n",
            "Enter third side: 5\n",
            "The area of the triangle is 10.83\n"
          ]
        }
      ]
    },
    {
      "cell_type": "code",
      "source": [
        "x = 15\n",
        "y = 50\n",
        "\n",
        "# To take inputs from the user\n",
        "#x = input('Enter value of x: ')\n",
        "#y = input('Enter value of y: ')\n",
        "\n",
        "# create a temporary variable and swap the values\n",
        "temp = x\n",
        "x = y\n",
        "y = temp\n",
        "\n",
        "print('The value of x after swapping: {}'.format(x))\n",
        "print('The value of y after swapping: {}'.format(y))"
      ],
      "metadata": {
        "colab": {
          "base_uri": "https://localhost:8080/"
        },
        "id": "e8tDJMiYiXhU",
        "outputId": "5e8b4cc7-6e22-4f37-d99d-dff96547d98a"
      },
      "execution_count": 12,
      "outputs": [
        {
          "output_type": "stream",
          "name": "stdout",
          "text": [
            "The value of x after swapping: 50\n",
            "The value of y after swapping: 15\n"
          ]
        }
      ]
    },
    {
      "cell_type": "code",
      "source": [
        "# importing the random module\n",
        "import random\n",
        "\n",
        "print(random.randint(0,5))"
      ],
      "metadata": {
        "colab": {
          "base_uri": "https://localhost:8080/"
        },
        "id": "5Tg1yY8GlDPT",
        "outputId": "b7871ab5-3fb5-40af-9f76-ff4f941817f1"
      },
      "execution_count": 22,
      "outputs": [
        {
          "output_type": "stream",
          "name": "stdout",
          "text": [
            "1\n"
          ]
        }
      ]
    },
    {
      "cell_type": "code",
      "source": [
        ""
      ],
      "metadata": {
        "id": "N5mtdvNilhVG"
      },
      "execution_count": 21,
      "outputs": []
    }
  ]
}