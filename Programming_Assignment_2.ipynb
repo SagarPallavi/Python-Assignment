{
  "nbformat": 4,
  "nbformat_minor": 0,
  "metadata": {
    "colab": {
      "name": "Programming Assignment-2.ipynb",
      "provenance": []
    },
    "kernelspec": {
      "name": "python3",
      "display_name": "Python 3"
    },
    "language_info": {
      "name": "python"
    }
  },
  "cells": [
    {
      "cell_type": "code",
      "execution_count": 1,
      "metadata": {
        "colab": {
          "base_uri": "https://localhost:8080/"
        },
        "id": "HZA7VzTZ5lMY",
        "outputId": "86ca383b-6b8b-44c2-9a7b-7c3c925322ee"
      },
      "outputs": [
        {
          "output_type": "stream",
          "name": "stdout",
          "text": [
            "Enter Kilometer to be converted into miles: 2\n",
            "3.21868\n"
          ]
        }
      ],
      "source": [
        "x= input(\"Enter Kilometer to be converted into miles: \")\n",
        "y= float(x) * 1.60934\n",
        "\n",
        "print (y)"
      ]
    },
    {
      "cell_type": "code",
      "source": [
        "x= input(\"Enter degree celsius to be converted into fahrenheit: \")\n",
        "y= float(x) * (9/5) + 32\n",
        "\n",
        "print (y)"
      ],
      "metadata": {
        "colab": {
          "base_uri": "https://localhost:8080/"
        },
        "id": "h8pXUyKD50yP",
        "outputId": "27086ee2-e4cb-46da-aee9-2d6bd68c936b"
      },
      "execution_count": 3,
      "outputs": [
        {
          "output_type": "stream",
          "name": "stdout",
          "text": [
            "Enter degree celsius to be converted into fahrenheit: 1\n",
            "33.8\n"
          ]
        }
      ]
    },
    {
      "cell_type": "code",
      "source": [
        "import calendar\n",
        "#year\n",
        "yy = 2022\n",
        "#month  \n",
        "mm = 1     \n",
        "print(calendar.month(yy, mm))"
      ],
      "metadata": {
        "colab": {
          "base_uri": "https://localhost:8080/"
        },
        "id": "2go1AYGI5-1E",
        "outputId": "da47b42b-46b9-4864-873b-c7bd0222bb33"
      },
      "execution_count": 23,
      "outputs": [
        {
          "output_type": "stream",
          "name": "stdout",
          "text": [
            "    January 2022\n",
            "Mo Tu We Th Fr Sa Su\n",
            "                1  2\n",
            " 3  4  5  6  7  8  9\n",
            "10 11 12 13 14 15 16\n",
            "17 18 19 20 21 22 23\n",
            "24 25 26 27 28 29 30\n",
            "31\n",
            "\n"
          ]
        }
      ]
    },
    {
      "cell_type": "code",
      "source": [
        "import cmath\n",
        "\n",
        "a = 1\n",
        "b = 7\n",
        "c = 10\n",
        "\n",
        "# Middle Value\n",
        "d = (b**2) - (4*a*c)\n",
        "\n",
        "# solutions\n",
        "Root1 = (-b-cmath.sqrt(d))/(2*a)\n",
        "Root2 = (-b+cmath.sqrt(d))/(2*a)\n",
        "\n",
        "print(Root1, Root2)\n"
      ],
      "metadata": {
        "colab": {
          "base_uri": "https://localhost:8080/"
        },
        "id": "5qbIkDjg7gn8",
        "outputId": "fcbaac7a-8da9-4a93-fa12-38196da59974"
      },
      "execution_count": 34,
      "outputs": [
        {
          "output_type": "stream",
          "name": "stdout",
          "text": [
            "(-5+0j) (-2+0j)\n"
          ]
        }
      ]
    },
    {
      "cell_type": "code",
      "source": [
        "x = 16\n",
        "y = -36\n",
        "\n",
        "x, y = y, x\n",
        "print(\"x =\", x)\n",
        "print(\"y =\", y)"
      ],
      "metadata": {
        "colab": {
          "base_uri": "https://localhost:8080/"
        },
        "id": "OS9zAsoT8b9e",
        "outputId": "639655d0-6bc9-40eb-a2bd-51c5fab730ac"
      },
      "execution_count": 35,
      "outputs": [
        {
          "output_type": "stream",
          "name": "stdout",
          "text": [
            "x = -36\n",
            "y = 16\n"
          ]
        }
      ]
    },
    {
      "cell_type": "code",
      "source": [
        ""
      ],
      "metadata": {
        "id": "x4PFApgK-R2a"
      },
      "execution_count": null,
      "outputs": []
    }
  ]
}