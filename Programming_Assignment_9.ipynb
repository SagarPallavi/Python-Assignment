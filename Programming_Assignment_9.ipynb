{
  "nbformat": 4,
  "nbformat_minor": 0,
  "metadata": {
    "colab": {
      "name": " Programming Assignment_9.ipynb",
      "provenance": []
    },
    "kernelspec": {
      "name": "python3",
      "display_name": "Python 3"
    },
    "language_info": {
      "name": "python"
    }
  },
  "cells": [
    {
      "cell_type": "code",
      "execution_count": 2,
      "metadata": {
        "colab": {
          "base_uri": "https://localhost:8080/"
        },
        "id": "gC6ZJYLxRsO6",
        "outputId": "40701a12-0f9f-4549-fd61-eb423e2a80a0"
      },
      "outputs": [
        {
          "output_type": "stream",
          "name": "stdout",
          "text": [
            "Not a Disarium Number\n"
          ]
        }
      ],
      "source": [
        "#1.\tWrite a Python program to check if the given number is a Disarium Number?\n",
        "import math\n",
        "def check(n) :\n",
        "    # Count digits in n.\n",
        "    count_digits = len(str(n))\n",
        "      \n",
        "    # Compute sum of terms like digit multiplied by\n",
        "    # power of position\n",
        "    sum = 0  # Initialize sum of terms\n",
        "    x = n\n",
        "    while (x!=0) :\n",
        " \n",
        "        # Get the rightmost digit\n",
        "        r = x % 10\n",
        "          \n",
        "        # Sum the digits by powering according to\n",
        "        # the positions\n",
        "        sum = (int) (sum + math.pow(r, count_digits))\n",
        "        count_digits = count_digits - 1\n",
        "        x = x//10\n",
        "        \n",
        "    # If sum is same as number, then number is\n",
        "    if sum == n :\n",
        "        return 1\n",
        "    else :\n",
        "        return 0\n",
        "       \n",
        "# Driver method\n",
        "n = 100\n",
        "if (check(n) == 1) :\n",
        "    print (\"Disarium Number\")\n",
        "else :\n",
        "    print (\"Not a Disarium Number\")\n"
      ]
    },
    {
      "cell_type": "code",
      "source": [
        "#2.\tWrite a Python program to print all disarium numbers between 1 to 100?\n",
        "\n",
        "def calculateLength(n):    \n",
        "    length = 0;    \n",
        "    while(n != 0):    \n",
        "        length = length + 1;    \n",
        "        n = n//10;    \n",
        "    return length;    \n",
        "     \n",
        "#sumOfDigits() will calculates the sum of digits powered with their respective position    \n",
        "def sumOfDigits(num):    \n",
        "    rem = sum = 0;    \n",
        "    len = calculateLength(num);    \n",
        "        \n",
        "    while(num > 0):    \n",
        "        rem = num%10;    \n",
        "        sum = sum + (rem**len);    \n",
        "        num = num//10;    \n",
        "        len = len - 1;    \n",
        "    return sum;    \n",
        "      \n",
        "result = 0;    \n",
        "     \n",
        "#Displays all disarium numbers between 1 and 100    \n",
        "print(\"Disarium numbers between 1 and 100 are\");    \n",
        "for i in range(1, 101):    \n",
        "    result = sumOfDigits(i);    \n",
        "        \n",
        "    if(result == i):    \n",
        "        print(i),    \n"
      ],
      "metadata": {
        "colab": {
          "base_uri": "https://localhost:8080/"
        },
        "id": "iY1_8oSmRyax",
        "outputId": "7a5809be-b6b1-4eba-a397-0c62123051cf"
      },
      "execution_count": 3,
      "outputs": [
        {
          "output_type": "stream",
          "name": "stdout",
          "text": [
            "Disarium numbers between 1 and 100 are\n",
            "1\n",
            "2\n",
            "3\n",
            "4\n",
            "5\n",
            "6\n",
            "7\n",
            "8\n",
            "9\n",
            "89\n"
          ]
        }
      ]
    },
    {
      "cell_type": "code",
      "source": [
        "#3.\tWrite a Python program to check if the given number is Happy Number?\n",
        "\n",
        "def isHappyNumber(num):    \n",
        "    rem = sum = 0;    \n",
        "        \n",
        "    #Calculates the sum of squares of digits    \n",
        "    while(num > 0):    \n",
        "        rem = num%10;    \n",
        "        sum = sum + (rem*rem);    \n",
        "        num = num//10;    \n",
        "    return sum;    \n",
        "        \n",
        "num = 82;    \n",
        "result = num;    \n",
        "     \n",
        "while(result != 1 and result != 4):    \n",
        "    result = isHappyNumber(result);    \n",
        "     \n",
        "#Happy number always ends with 1    \n",
        "if(result == 1):    \n",
        "    print(str(num) + \" is a happy number\");    \n",
        "#Unhappy number ends in a cycle of repeating numbers which contain 4    \n",
        "elif(result == 4):    \n",
        "    print(str(num) + \" is not a happy number\"); \n"
      ],
      "metadata": {
        "colab": {
          "base_uri": "https://localhost:8080/"
        },
        "id": "Mz1YyVBgRzlX",
        "outputId": "a133b19a-1973-44b2-a3bc-88b4be905b72"
      },
      "execution_count": 4,
      "outputs": [
        {
          "output_type": "stream",
          "name": "stdout",
          "text": [
            "82 is a happy number\n"
          ]
        }
      ]
    },
    {
      "cell_type": "code",
      "source": [
        "#4.\tWrite a Python program to print all happy numbers between 1 and 100?\n",
        "print(\"Enter a range:\")\n",
        "range1=int(input())\n",
        "range2=int(input())\n",
        "print(\"Happy numbers between \",range1,\" and \",range2,\" are: \")\n",
        "for i in range(range1,range2+1):\n",
        "    num=i\n",
        "    sum=0\n",
        "    while sum != 1 and sum != 4:\n",
        "        sum = 0\n",
        "        while num != 0:\n",
        "            rem = num % 10\n",
        "            sum += (rem * rem)\n",
        "            num //= 10\n",
        "        num = sum\n",
        "\n",
        "    if sum == 1:\n",
        "        print(i,end=\" \")\n"
      ],
      "metadata": {
        "colab": {
          "base_uri": "https://localhost:8080/"
        },
        "id": "pHrFObc5R02v",
        "outputId": "11e84c2b-ae44-41e6-8e15-3cf62a75f3f8"
      },
      "execution_count": 5,
      "outputs": [
        {
          "output_type": "stream",
          "name": "stdout",
          "text": [
            "Enter a range:\n",
            "1\n",
            "100\n",
            "Happy numbers between  1  and  100  are: \n",
            "1 7 10 13 19 23 28 31 32 44 49 68 70 79 82 86 91 94 97 100 "
          ]
        }
      ]
    },
    {
      "cell_type": "code",
      "source": [
        "#5.\tWrite a Python program to determine whether the given number is a Harshad Number?\n",
        "\n",
        "num = 28;    \n",
        "rem = sum = 0;    \n",
        "     \n",
        "#Make a copy of num and store it in variable n    \n",
        "n = num;    \n",
        "     \n",
        "#Calculates sum of digits    \n",
        "while(num > 0):    \n",
        "    rem = num%10;    \n",
        "    sum = sum + rem;    \n",
        "    num = num//10;    \n",
        "     \n",
        "#Checks whether the number is divisible by the sum of digits    \n",
        "if(n%sum == 0):    \n",
        "    print(str(n) + \" is a harshad number\");    \n",
        "else:    \n",
        "    print(str(n) + \" is not a harshad number\");    \n",
        " \n"
      ],
      "metadata": {
        "colab": {
          "base_uri": "https://localhost:8080/"
        },
        "id": "_FoA6n4VR2Cu",
        "outputId": "3c95148b-1d92-4a04-add6-1a53752cfebd"
      },
      "execution_count": 10,
      "outputs": [
        {
          "output_type": "stream",
          "name": "stdout",
          "text": [
            "28 is not a harshad number\n"
          ]
        }
      ]
    },
    {
      "cell_type": "code",
      "source": [
        "#6.\tWrite a Python program to print all pronic numbers between 1 and 100?\n",
        "\n",
        "def checkPronic(Number):\n",
        "    i = 0\n",
        "    flag = 0\n",
        "    while i <= Number:\n",
        "        if Number == i * (i + 1):\n",
        "            flag = 1\n",
        "            break\n",
        "        i = i + 1\n",
        "    return flag\n",
        "\n",
        "minPro = int(input(\"Enter the Minimum Pronic Number = \"))\n",
        "maxPro = int(input(\"Enter the Maximum Pronic Number = \"))\n",
        "\n",
        "print(\"\\nThe List of Pronic Numbers from {0} and {1}\".format(minPro, maxPro)) \n",
        "for i in range(minPro, maxPro):\n",
        "    if(checkPronic(i) == 1):\n",
        "        print(i, end = '   ')\n",
        "\n"
      ],
      "metadata": {
        "colab": {
          "base_uri": "https://localhost:8080/"
        },
        "id": "ZLsTCoakR3Nf",
        "outputId": "406ee273-9bef-48fd-dcc2-ab67afa38e45"
      },
      "execution_count": 13,
      "outputs": [
        {
          "output_type": "stream",
          "name": "stdout",
          "text": [
            "Enter the Minimum Pronic Number = 1\n",
            "Enter the Maximum Pronic Number = 100\n",
            "\n",
            "The List of Pronic Numbers from 1 and 100\n",
            "2   6   12   20   30   42   56   72   90   "
          ]
        }
      ]
    },
    {
      "cell_type": "code",
      "source": [
        ""
      ],
      "metadata": {
        "id": "o85B0quLUgL_"
      },
      "execution_count": null,
      "outputs": []
    }
  ]
}