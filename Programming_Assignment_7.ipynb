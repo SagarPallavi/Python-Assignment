{
  "nbformat": 4,
  "nbformat_minor": 0,
  "metadata": {
    "colab": {
      "name": "Programming_Assignment_7.ipynb",
      "provenance": []
    },
    "kernelspec": {
      "name": "python3",
      "display_name": "Python 3"
    },
    "language_info": {
      "name": "python"
    }
  },
  "cells": [
    {
      "cell_type": "code",
      "execution_count": 13,
      "metadata": {
        "colab": {
          "base_uri": "https://localhost:8080/"
        },
        "id": "Z3PxdBnH9hU7",
        "outputId": "0b904562-d973-4778-c52b-c5a3d9c784c7"
      },
      "outputs": [
        {
          "output_type": "stream",
          "name": "stdout",
          "text": [
            "Enter the size of the array: 6\n",
            "Enter array elements: \n",
            "4\n",
            "5\n",
            "5\n",
            "6\n",
            "7\n",
            "8\n",
            "Sum: 35\n"
          ]
        }
      ],
      "source": [
        "#1.\tWrite a Python Program to find sum of array?\n",
        "lst = []\n",
        "num = int(input(\"Enter the size of the array: \"))\n",
        "print(\"Enter array elements: \")\n",
        "for n in range(num):\n",
        "  numbers = int(input())\n",
        "  lst.append(numbers)\n",
        "print(\"Sum:\", sum(lst))"
      ]
    },
    {
      "cell_type": "code",
      "source": [
        "#2.\tWrite a Python Program to find largest element in an array?\n",
        "arr = [10,25,12,17,79,53,16,85];     \n",
        "#Initialize max variable with first element of array.    \n",
        "max = arr[0];    \n",
        "#Loop through the array    \n",
        "for i in range(0, len(arr)):    \n",
        "#Compare elements of array w    ith max variable and find greater than max then ovveride max variable with new value  \n",
        "   if(arr[i] > max):    \n",
        "       max = arr[i];    \n",
        "print(\"Largest element in given array = \" + str(max));   "
      ],
      "metadata": {
        "colab": {
          "base_uri": "https://localhost:8080/"
        },
        "id": "MgUY8UWK9wlY",
        "outputId": "8c95872d-7cb8-4806-8980-40994893ff4d"
      },
      "execution_count": 15,
      "outputs": [
        {
          "output_type": "stream",
          "name": "stdout",
          "text": [
            "Largest element in given array = 85\n"
          ]
        }
      ]
    },
    {
      "cell_type": "code",
      "source": [
        "#3.\tWrite a Python Program for array rotation?\n",
        "def rotateArray(a,d):\n",
        "    temp = []\n",
        "    n=len(a)\n",
        "    for i in range(d,n):\n",
        "        temp.append(a[i])\n",
        "    i = 0\n",
        "    for i in range (0,d):\n",
        "        temp.append(a[i])\n",
        "    a=temp.copy()\n",
        "    return a\n",
        " \n",
        "arr = [1, 2, 3, 4, 5, 6, 7]\n",
        "print(\"Array after left rotation is: \", end=' ')\n",
        "print(rotateArray(arr, 2))\n"
      ],
      "metadata": {
        "colab": {
          "base_uri": "https://localhost:8080/"
        },
        "id": "al9vkC339xzt",
        "outputId": "4f2ee4c8-f616-484a-bc55-4208e49bab7c"
      },
      "execution_count": 16,
      "outputs": [
        {
          "output_type": "stream",
          "name": "stdout",
          "text": [
            "Array after left rotation is:  [3, 4, 5, 6, 7, 1, 2]\n"
          ]
        }
      ]
    },
    {
      "cell_type": "code",
      "source": [
        "#4.\tWrite a Python Program to Split the array and add the first part to the end?\n",
        "def splitArr(arr, n, k): \n",
        "    for i in range(0, k): \n",
        "        x = arr[0]\n",
        "        for j in range(0, n-1):\n",
        "            arr[j] = arr[j + 1]\n",
        "          \n",
        "        arr[n-1] = x\n",
        "# main\n",
        "arr = [12, 10, 5, 6, 52, 36]\n",
        "n = len(arr)\n",
        "position = 2\n",
        "  \n",
        "splitArr(arr, n, position)\n",
        "  \n",
        "for i in range(0, n): \n",
        "    print(arr[i], end = ' ')\n",
        "  \n"
      ],
      "metadata": {
        "colab": {
          "base_uri": "https://localhost:8080/"
        },
        "id": "r1eigJ_W9_Du",
        "outputId": "903bce11-5b95-4a0b-cb25-e492b186fdfa"
      },
      "execution_count": 18,
      "outputs": [
        {
          "output_type": "stream",
          "name": "stdout",
          "text": [
            "5 6 52 36 12 10 "
          ]
        }
      ]
    },
    {
      "cell_type": "code",
      "source": [
        "#5.\tWrite a Python Program to check if given array is Monotonic?\n",
        "\n",
        "def isMonotonic(A):\n",
        "  \n",
        "    return (all(A[i] <= A[i + 1] for i in range(len(A) - 1)) or\n",
        "            all(A[i] >= A[i + 1] for i in range(len(A) - 1)))\n",
        "  \n",
        "# Driver program\n",
        "A = [6, 5, 4, 4]\n",
        "  \n",
        "# Print required result\n",
        "print(isMonotonic(A))\n"
      ],
      "metadata": {
        "colab": {
          "base_uri": "https://localhost:8080/"
        },
        "id": "TF3nkRoJ-AW9",
        "outputId": "0dec65c7-9111-4928-cca3-65aaf1c7f6f3"
      },
      "execution_count": 19,
      "outputs": [
        {
          "output_type": "stream",
          "name": "stdout",
          "text": [
            "True\n"
          ]
        }
      ]
    },
    {
      "cell_type": "code",
      "source": [
        ""
      ],
      "metadata": {
        "id": "gsZXmWY4AK2F"
      },
      "execution_count": null,
      "outputs": []
    }
  ]
}